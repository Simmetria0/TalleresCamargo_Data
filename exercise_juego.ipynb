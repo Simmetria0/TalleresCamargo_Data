{
 "cells": [
  {
   "cell_type": "markdown",
   "metadata": {},
   "source": [
    "# Ejercicio : piedra papel tijera"
   ]
  },
  {
   "cell_type": "code",
   "execution_count": 1,
   "metadata": {},
   "outputs": [],
   "source": [
    "#completa el modulo con las otras elecciones\n",
    "\n",
    "def resultado(cc,ju):\n",
    "    if cc == \"piedra\":\n",
    "        if ju == \"papel\":\n",
    "            print (\"Ha ganado el computer\")\n",
    "        if ju == \"tijera\":\n",
    "            print (\"Ha ganado el jugador\")\n",
    "        if ju == \"piedra\":\n",
    "            print (\"empate\")\n",
    "\n",
    "\n",
    "            \n",
    "            "
   ]
  },
  {
   "cell_type": "code",
   "execution_count": 8,
   "metadata": {},
   "outputs": [],
   "source": [
    "import random\n",
    "computer= ['piedra', 'papel', 'tijera']\n",
    "\n",
    "cc = random.choice(computer)\n",
    "cc = \"piedra\""
   ]
  },
  {
   "cell_type": "code",
   "execution_count": 9,
   "metadata": {},
   "outputs": [
    {
     "name": "stdout",
     "output_type": "stream",
     "text": [
      "Elije: 1=piedra, 2=papel, 3=tijera\n",
      "2\n"
     ]
    }
   ],
   "source": [
    "print (\"Elije: 1=piedra, 2=papel, 3=tijera\")\n",
    "a = int(input()) \n",
    "if (a != 1 and a!=2 and a!=3):\n",
    "    print (\"Wrong: Elije un numero entero enytre 1 y 3\")\n",
    "else:\n",
    "    b = a-1\n",
    "    ju = computer[b]\n",
    "    "
   ]
  },
  {
   "cell_type": "code",
   "execution_count": 10,
   "metadata": {},
   "outputs": [
    {
     "name": "stdout",
     "output_type": "stream",
     "text": [
      "Ha ganado el computer\n"
     ]
    }
   ],
   "source": [
    "resultado(cc,ju)"
   ]
  },
  {
   "cell_type": "code",
   "execution_count": null,
   "metadata": {},
   "outputs": [],
   "source": []
  }
 ],
 "metadata": {
  "kernelspec": {
   "display_name": "Python 3",
   "language": "python",
   "name": "python3"
  },
  "language_info": {
   "codemirror_mode": {
    "name": "ipython",
    "version": 3
   },
   "file_extension": ".py",
   "mimetype": "text/x-python",
   "name": "python",
   "nbconvert_exporter": "python",
   "pygments_lexer": "ipython3",
   "version": "3.7.3"
  }
 },
 "nbformat": 4,
 "nbformat_minor": 2
}
